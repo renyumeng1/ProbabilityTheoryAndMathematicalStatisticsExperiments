{
 "cells": [
  {
   "cell_type": "code",
   "execution_count": 1,
   "metadata": {
    "collapsed": true
   },
   "outputs": [],
   "source": [
    "import pandas as pd"
   ]
  },
  {
   "cell_type": "code",
   "execution_count": 38,
   "outputs": [],
   "source": [
    "df = pd.read_excel(\"./resources/1.xlsx\", engine='openpyxl')"
   ],
   "metadata": {
    "collapsed": false,
    "pycharm": {
     "name": "#%%\n"
    }
   }
  },
  {
   "cell_type": "code",
   "execution_count": 39,
   "outputs": [
    {
     "data": {
      "text/plain": "   组号  编号   厚度mm  孔隙率（%）  压缩回弹性率（%）  过滤阻力Pa  过滤效率（%）  透气性 mm/s  插层率（%）\n0   1  2#  2.810   96.28      83.20   7.533   19.967   1019.67   36.44\n1   2  2#  2.910   96.41      86.65   7.200   24.967    968.63   24.74\n2   3  2#  3.425   96.95      94.33  10.133   34.600    643.40   31.45\n3   4  2#  3.400   96.93      82.88  10.600   33.900    603.17   19.37\n4   5  2#  3.845   97.30      75.97  15.700   54.500    405.83   31.19",
      "text/html": "<div>\n<style scoped>\n    .dataframe tbody tr th:only-of-type {\n        vertical-align: middle;\n    }\n\n    .dataframe tbody tr th {\n        vertical-align: top;\n    }\n\n    .dataframe thead th {\n        text-align: right;\n    }\n</style>\n<table border=\"1\" class=\"dataframe\">\n  <thead>\n    <tr style=\"text-align: right;\">\n      <th></th>\n      <th>组号</th>\n      <th>编号</th>\n      <th>厚度mm</th>\n      <th>孔隙率（%）</th>\n      <th>压缩回弹性率（%）</th>\n      <th>过滤阻力Pa</th>\n      <th>过滤效率（%）</th>\n      <th>透气性 mm/s</th>\n      <th>插层率（%）</th>\n    </tr>\n  </thead>\n  <tbody>\n    <tr>\n      <th>0</th>\n      <td>1</td>\n      <td>2#</td>\n      <td>2.810</td>\n      <td>96.28</td>\n      <td>83.20</td>\n      <td>7.533</td>\n      <td>19.967</td>\n      <td>1019.67</td>\n      <td>36.44</td>\n    </tr>\n    <tr>\n      <th>1</th>\n      <td>2</td>\n      <td>2#</td>\n      <td>2.910</td>\n      <td>96.41</td>\n      <td>86.65</td>\n      <td>7.200</td>\n      <td>24.967</td>\n      <td>968.63</td>\n      <td>24.74</td>\n    </tr>\n    <tr>\n      <th>2</th>\n      <td>3</td>\n      <td>2#</td>\n      <td>3.425</td>\n      <td>96.95</td>\n      <td>94.33</td>\n      <td>10.133</td>\n      <td>34.600</td>\n      <td>643.40</td>\n      <td>31.45</td>\n    </tr>\n    <tr>\n      <th>3</th>\n      <td>4</td>\n      <td>2#</td>\n      <td>3.400</td>\n      <td>96.93</td>\n      <td>82.88</td>\n      <td>10.600</td>\n      <td>33.900</td>\n      <td>603.17</td>\n      <td>19.37</td>\n    </tr>\n    <tr>\n      <th>4</th>\n      <td>5</td>\n      <td>2#</td>\n      <td>3.845</td>\n      <td>97.30</td>\n      <td>75.97</td>\n      <td>15.700</td>\n      <td>54.500</td>\n      <td>405.83</td>\n      <td>31.19</td>\n    </tr>\n  </tbody>\n</table>\n</div>"
     },
     "execution_count": 39,
     "metadata": {},
     "output_type": "execute_result"
    }
   ],
   "source": [
    "df.head()"
   ],
   "metadata": {
    "collapsed": false,
    "pycharm": {
     "name": "#%%\n"
    }
   }
  },
  {
   "cell_type": "code",
   "execution_count": null,
   "outputs": [],
   "source": [],
   "metadata": {
    "collapsed": false,
    "pycharm": {
     "name": "#%%\n"
    }
   }
  },
  {
   "cell_type": "code",
   "execution_count": null,
   "outputs": [],
   "source": [],
   "metadata": {
    "collapsed": false,
    "pycharm": {
     "name": "#%%\n"
    }
   }
  },
  {
   "cell_type": "code",
   "execution_count": 34,
   "outputs": [],
   "source": [
    "df_melt = df.melt()"
   ],
   "metadata": {
    "collapsed": false,
    "pycharm": {
     "name": "#%%\n"
    }
   }
  },
  {
   "cell_type": "code",
   "execution_count": 35,
   "outputs": [
    {
     "data": {
      "text/plain": "  variable value\n0       组号     1\n1       组号     2\n2       组号     3\n3       组号     4\n4       组号     5",
      "text/html": "<div>\n<style scoped>\n    .dataframe tbody tr th:only-of-type {\n        vertical-align: middle;\n    }\n\n    .dataframe tbody tr th {\n        vertical-align: top;\n    }\n\n    .dataframe thead th {\n        text-align: right;\n    }\n</style>\n<table border=\"1\" class=\"dataframe\">\n  <thead>\n    <tr style=\"text-align: right;\">\n      <th></th>\n      <th>variable</th>\n      <th>value</th>\n    </tr>\n  </thead>\n  <tbody>\n    <tr>\n      <th>0</th>\n      <td>组号</td>\n      <td>1</td>\n    </tr>\n    <tr>\n      <th>1</th>\n      <td>组号</td>\n      <td>2</td>\n    </tr>\n    <tr>\n      <th>2</th>\n      <td>组号</td>\n      <td>3</td>\n    </tr>\n    <tr>\n      <th>3</th>\n      <td>组号</td>\n      <td>4</td>\n    </tr>\n    <tr>\n      <th>4</th>\n      <td>组号</td>\n      <td>5</td>\n    </tr>\n  </tbody>\n</table>\n</div>"
     },
     "execution_count": 35,
     "metadata": {},
     "output_type": "execute_result"
    }
   ],
   "source": [
    "df_melt.head()"
   ],
   "metadata": {
    "collapsed": false,
    "pycharm": {
     "name": "#%%\n"
    }
   }
  },
  {
   "cell_type": "code",
   "execution_count": null,
   "outputs": [],
   "source": [],
   "metadata": {
    "collapsed": false,
    "pycharm": {
     "name": "#%%\n"
    }
   }
  }
 ],
 "metadata": {
  "kernelspec": {
   "display_name": "Python 3",
   "language": "python",
   "name": "python3"
  },
  "language_info": {
   "codemirror_mode": {
    "name": "ipython",
    "version": 2
   },
   "file_extension": ".py",
   "mimetype": "text/x-python",
   "name": "python",
   "nbconvert_exporter": "python",
   "pygments_lexer": "ipython2",
   "version": "2.7.6"
  }
 },
 "nbformat": 4,
 "nbformat_minor": 0
}